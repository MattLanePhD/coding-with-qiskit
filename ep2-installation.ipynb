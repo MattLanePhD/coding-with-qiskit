{
 "cells": [
  {
   "cell_type": "code",
   "execution_count": 12,
   "metadata": {},
   "outputs": [
    {
     "name": "stdout",
     "output_type": "stream",
     "text": [
      "Python version 3.13.2 | packaged by Anaconda, Inc. | (main, Feb  6 2025, 12:55:35) [Clang 14.0.6 ]\n",
      "Qiskit version 2.0.0\n"
     ]
    }
   ],
   "source": [
    "import sys; print('Python version '+str(sys.version))\n",
    "import qiskit; print('Qiskit version '+str(qiskit.__version__))"
   ]
  },
  {
   "cell_type": "code",
   "execution_count": 14,
   "metadata": {},
   "outputs": [
    {
     "name": "stderr",
     "output_type": "stream",
     "text": [
      "/var/folders/rr/zb03ch_925s5zfqc9w_mlvdh0000gn/T/ipykernel_97717/712819617.py:4: DeprecationWarning: The \"ibm_quantum\" channel option is deprecated and will be sunset on 1 July. After this date, \"ibm_cloud\" and \"local\" will be the only valid channels. For information on migrating to the new IBM Quantum Platform on the \"ibm_cloud\" channel, review the migration guide https://quantum.cloud.ibm.com/docs/migration-guides/classic-iqp-to-cloud-iqp .\n",
      "  service = QiskitRuntimeService(channel=\"ibm_quantum\", token=token)\n"
     ]
    }
   ],
   "source": [
    "# Access my IBM account. \n",
    "from qiskit_ibm_runtime import QiskitRuntimeService\n",
    "token = \"e50c0a6622def569fc38e136cee47dd38dcb65678d70aa78ee97e2b5ad88f3f06eba1472a5c1c4547d96a9e78a64f772210b133a675dc4f152874ed508a87e81\"\n",
    "service = QiskitRuntimeService(channel=\"ibm_quantum\", token=token)\n",
    "\n",
    "# Only need to run the next line once which saves the account. \n",
    "# QiskitRuntimeService.save_account(channel=\"ibm_quantum\", token=token)"
   ]
  },
  {
   "cell_type": "code",
   "execution_count": 15,
   "metadata": {},
   "outputs": [
    {
     "data": {
      "text/plain": [
       "127"
      ]
     },
     "execution_count": 15,
     "metadata": {},
     "output_type": "execute_result"
    }
   ],
   "source": [
    "# Access ibm_brisbane device. \n",
    "backend = service.backend(name=\"ibm_brisbane\")\n",
    "backend.num_qubits"
   ]
  }
 ],
 "metadata": {
  "kernelspec": {
   "display_name": "cwq",
   "language": "python",
   "name": "python3"
  },
  "language_info": {
   "codemirror_mode": {
    "name": "ipython",
    "version": 3
   },
   "file_extension": ".py",
   "mimetype": "text/x-python",
   "name": "python",
   "nbconvert_exporter": "python",
   "pygments_lexer": "ipython3",
   "version": "3.13.2"
  }
 },
 "nbformat": 4,
 "nbformat_minor": 2
}
